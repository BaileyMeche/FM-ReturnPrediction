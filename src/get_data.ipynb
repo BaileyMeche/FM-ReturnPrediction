{
 "cells": [
  {
   "cell_type": "code",
   "execution_count": 1,
   "metadata": {},
   "outputs": [],
   "source": [
    "# Standard library imports\n",
    "import logging\n",
    "import warnings\n",
    "from pathlib import Path\n",
    "\n",
    "# Third-party imports\n",
    "import pandas as pd\n",
    "import wrds\n",
    "\n",
    "# Suppress warnings\n",
    "warnings.filterwarnings(\"ignore\", category=FutureWarning)\n",
    "warnings.filterwarnings(\"ignore\")\n",
    "\n",
    "from settings import config\n",
    "from pull_compustat import *\n",
    "from pull_crsp import *"
   ]
  },
  {
   "cell_type": "code",
   "execution_count": 2,
   "metadata": {},
   "outputs": [],
   "source": [
    "# Change default pandas display options\n",
    "\n",
    "pd.options.display.max_columns = 30\n",
    "pd.options.display.max_colwidth = 200\n",
    "pd.set_option('display.float_format', lambda x: '%.4f' % x)\n",
    "pd.set_option('display.expand_frame_repr', False)\n",
    "\n",
    "# Global variables\n",
    "RAW_DATA_DIR = Path(config(\"RAW_DATA_DIR\"))\n",
    "RAW_DATA_DIR.mkdir(parents=True, exist_ok=True)\n",
    "OUTPUT_DIR = Path(config(\"OUTPUT_DIR\"))\n",
    "OUTPUT_DIR.mkdir(parents=True, exist_ok=True)\n",
    "WRDS_USERNAME = config(\"WRDS_USERNAME\")\n",
    "START_DATE = config(\"START_DATE\")\n",
    "END_DATE = config(\"END_DATE\")\n"
   ]
  },
  {
   "cell_type": "code",
   "execution_count": 3,
   "metadata": {},
   "outputs": [
    {
     "name": "stdout",
     "output_type": "stream",
     "text": [
      "Loading cached data from C:\\Users\\eduar\\Documents\\data\\raw\\crsp_stock.parquet\n"
     ]
    }
   ],
   "source": [
    "crsp = pull_CRSP_stock(\n",
    "    start_date=START_DATE,\n",
    "    end_date=END_DATE,\n",
    "    wrds_username=WRDS_USERNAME,\n",
    "    freq='D',\n",
    "    data_dir=RAW_DATA_DIR,\n",
    "    file_name='crsp_stock.parquet',\n",
    ")"
   ]
  },
  {
   "cell_type": "code",
   "execution_count": 5,
   "metadata": {},
   "outputs": [
    {
     "name": "stdout",
     "output_type": "stream",
     "text": [
      "Loading cached data from C:\\Users\\eduar\\Documents\\data\\raw\\Compustat_fund.parquet\n"
     ]
    }
   ],
   "source": [
    "comp = pull_Compustat(\n",
    "    start_date=START_DATE,\n",
    "    end_date=END_DATE,\n",
    "    wrds_username=WRDS_USERNAME,\n",
    "    data_dir=RAW_DATA_DIR,\n",
    "    file_name='Compustat_fund.parquet',\n",
    ")"
   ]
  },
  {
   "cell_type": "code",
   "execution_count": 6,
   "metadata": {},
   "outputs": [
    {
     "name": "stdout",
     "output_type": "stream",
     "text": [
      "Loading library list...\n",
      "Done\n",
      "CRSP_Comp_Link_Table.parquet\n",
      "Saved data to C:\\Users\\eduar\\Documents\\data\\raw\\CRSP_Comp_Link_Table.parquet\n"
     ]
    }
   ],
   "source": [
    "ccm = pull_CRSP_Comp_link_table(\n",
    "    wrds_username=WRDS_USERNAME,\n",
    "    data_dir=RAW_DATA_DIR,\n",
    "    file_name=\"CRSP_Comp_Link_Table.parquet\"\n",
    "    )"
   ]
  },
  {
   "cell_type": "code",
   "execution_count": null,
   "metadata": {},
   "outputs": [],
   "source": []
  }
 ],
 "metadata": {
  "kernelspec": {
   "display_name": "full_stack",
   "language": "python",
   "name": "python3"
  },
  "language_info": {
   "codemirror_mode": {
    "name": "ipython",
    "version": 3
   },
   "file_extension": ".py",
   "mimetype": "text/x-python",
   "name": "python",
   "nbconvert_exporter": "python",
   "pygments_lexer": "ipython3",
   "version": "3.12.8"
  }
 },
 "nbformat": 4,
 "nbformat_minor": 2
}
