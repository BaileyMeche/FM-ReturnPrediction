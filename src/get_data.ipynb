{
 "cells": [
  {
   "cell_type": "code",
   "execution_count": null,
   "metadata": {},
   "outputs": [],
   "source": [
    "# Standard library imports\n",
    "import logging\n",
    "import warnings\n",
    "from pathlib import Path\n",
    "\n",
    "# Third-party imports\n",
    "import pandas as pd\n",
    "import wrds\n",
    "\n",
    "# Suppress warnings\n",
    "warnings.filterwarnings(\"ignore\", category=FutureWarning)\n",
    "warnings.filterwarnings(\"ignore\")\n",
    "\n",
    "from settings import config\n",
    "from pull_compustat import *\n",
    "from pull_crsp import *\n",
    "from transform_crsp import *\n",
    "from transform_compustat import *"
   ]
  },
  {
   "cell_type": "code",
   "execution_count": null,
   "metadata": {},
   "outputs": [],
   "source": [
    "# Change default pandas display options\n",
    "\n",
    "pd.options.display.max_columns = 30\n",
    "pd.options.display.max_colwidth = 200\n",
    "pd.set_option('display.float_format', lambda x: '%.4f' % x)\n",
    "pd.set_option('display.expand_frame_repr', False)\n",
    "\n",
    "# Global variables\n",
    "RAW_DATA_DIR = Path(config(\"RAW_DATA_DIR\"))\n",
    "RAW_DATA_DIR.mkdir(parents=True, exist_ok=True)\n",
    "OUTPUT_DIR = Path(config(\"OUTPUT_DIR\"))\n",
    "OUTPUT_DIR.mkdir(parents=True, exist_ok=True)\n",
    "WRDS_USERNAME = config(\"WRDS_USERNAME\")\n",
    "START_DATE = config(\"START_DATE\")\n",
    "END_DATE = config(\"END_DATE\")"
   ]
  },
  {
   "cell_type": "code",
   "execution_count": null,
   "metadata": {},
   "outputs": [],
   "source": [
    "crsp_d = pull_CRSP_stock(\n",
    "    start_date=START_DATE,\n",
    "    end_date=END_DATE,\n",
    "    wrds_username=WRDS_USERNAME,\n",
    "    freq='D',\n",
    "    data_dir=RAW_DATA_DIR,\n",
    "    file_name='CRSP_stock_d.parquet',\n",
    ")"
   ]
  },
  {
   "cell_type": "code",
   "execution_count": null,
   "metadata": {},
   "outputs": [],
   "source": [
    "crsp_m = pull_CRSP_stock(\n",
    "    start_date=START_DATE,\n",
    "    end_date=END_DATE,\n",
    "    wrds_username=WRDS_USERNAME,\n",
    "    freq='M',\n",
    "    data_dir=RAW_DATA_DIR,\n",
    "    file_name='CRSP_stock_m.parquet',\n",
    ")"
   ]
  },
  {
   "cell_type": "code",
   "execution_count": null,
   "metadata": {},
   "outputs": [],
   "source": [
    "comp = pull_Compustat(\n",
    "    start_date=START_DATE,\n",
    "    end_date=END_DATE,\n",
    "    wrds_username=WRDS_USERNAME,\n",
    "    data_dir=RAW_DATA_DIR,\n",
    "    file_name='Compustat_fund.parquet',\n",
    ")"
   ]
  },
  {
   "cell_type": "code",
   "execution_count": null,
   "metadata": {},
   "outputs": [],
   "source": [
    "ccm = pull_CRSP_Comp_link_table(\n",
    "    wrds_username=WRDS_USERNAME,\n",
    "    data_dir=RAW_DATA_DIR,\n",
    "    file_name=\"CRSP_Comp_Link_Table.parquet\"\n",
    "    )"
   ]
  },
  {
   "cell_type": "code",
   "execution_count": null,
   "metadata": {},
   "outputs": [],
   "source": [
    "crsp_index_d = pull_CRSP_index(\n",
    "    start_date=START_DATE,\n",
    "    end_date=END_DATE,\n",
    "    freq='D',\n",
    "    wrds_username=WRDS_USERNAME,\n",
    "    file_name=\"CRSP_index_d.parquet\")"
   ]
  },
  {
   "cell_type": "code",
   "execution_count": null,
   "metadata": {},
   "outputs": [],
   "source": [
    "# 2) Calculate market equity\n",
    "crsp = calculate_market_equity(crsp_m)\n",
    "\n",
    "# 2) Add report date and calculate book equity\n",
    "comp = add_report_date(comp)\n",
    "comp = calc_book_equity(comp)\n",
    "comp = expand_compustat_annual_to_monthly(comp)\n"
   ]
  },
  {
   "cell_type": "code",
   "execution_count": null,
   "metadata": {},
   "outputs": [],
   "source": [
    "# 3) Merge comp + crsp_m + ccm => crsp_comp\n",
    "crsp_comp = merge_CRSP_and_Compustat(crsp, comp, ccm)"
   ]
  },
  {
   "cell_type": "code",
   "execution_count": null,
   "metadata": {},
   "outputs": [],
   "source": [
    "from calc_Lewellen_2014 import *"
   ]
  },
  {
   "cell_type": "code",
   "execution_count": null,
   "metadata": {},
   "outputs": [],
   "source": [
    "crsp_comp          = calc_log_size(crsp_comp)"
   ]
  },
  {
   "cell_type": "code",
   "execution_count": null,
   "metadata": {},
   "outputs": [],
   "source": [
    "crsp_comp            = calc_log_bm(crsp_comp)"
   ]
  },
  {
   "cell_type": "code",
   "execution_count": null,
   "metadata": {},
   "outputs": [],
   "source": [
    "crsp_comp       = calc_return_12_2(crsp_comp)"
   ]
  },
  {
   "cell_type": "code",
   "execution_count": null,
   "metadata": {},
   "outputs": [],
   "source": [
    "crsp_comp          = calc_accruals(crsp_comp) "
   ]
  },
  {
   "cell_type": "code",
   "execution_count": null,
   "metadata": {},
   "outputs": [],
   "source": [
    "crsp_comp               = calc_roa(crsp_comp)"
   ]
  },
  {
   "cell_type": "code",
   "execution_count": null,
   "metadata": {},
   "outputs": [],
   "source": [
    "crsp_comp = calc_log_assets_growth(crsp_comp)"
   ]
  },
  {
   "cell_type": "code",
   "execution_count": null,
   "metadata": {},
   "outputs": [],
   "source": [
    "crsp_comp                = calc_dy(crsp_comp)"
   ]
  },
  {
   "cell_type": "code",
   "execution_count": null,
   "metadata": {},
   "outputs": [],
   "source": [
    "crsp_comp  = calc_log_return_13_36(crsp_comp)"
   ]
  },
  {
   "cell_type": "code",
   "execution_count": null,
   "metadata": {},
   "outputs": [],
   "source": [
    "crsp_comp     = calc_log_issues_12(crsp_comp)"
   ]
  },
  {
   "cell_type": "code",
   "execution_count": null,
   "metadata": {},
   "outputs": [],
   "source": [
    "crsp_comp     = calc_log_issues_36(crsp_comp)"
   ]
  },
  {
   "cell_type": "code",
   "execution_count": null,
   "metadata": {},
   "outputs": [],
   "source": [
    "crsp_comp        = calc_debt_price(crsp_comp)"
   ]
  },
  {
   "cell_type": "code",
   "execution_count": null,
   "metadata": {},
   "outputs": [],
   "source": [
    "crsp_comp       = calc_sales_price(crsp_comp)"
   ]
  },
  {
   "cell_type": "code",
   "execution_count": null,
   "metadata": {},
   "outputs": [],
   "source": [
    "crsp_comp = calc_std_12(crsp_d, crsp_comp)\n"
   ]
  },
  {
   "cell_type": "code",
   "execution_count": null,
   "metadata": {},
   "outputs": [],
   "source": [
    "crsp_comp = calculate_rolling_beta(crsp_d, crsp_index_d, crsp_comp)"
   ]
  },
  {
   "cell_type": "code",
   "execution_count": null,
   "metadata": {},
   "outputs": [],
   "source": [
    "# Winsorize the variables to remove outliers\n",
    "variables_dict = {\n",
    "    \"Return (%)\":                \"retx\",\n",
    "    \"Log Size (-1)\":             \"log_size\",\n",
    "    \"Log B/M (-1)\":              \"log_bm\",\n",
    "    \"Return (-2, -12)\":          \"return_12_2\",\n",
    "    \"Log Issues (-1,-12)\":       \"log_issues_12\",\n",
    "    \"Accruals (-1)\":             \"accruals_final\",\n",
    "    \"ROA (-1)\":                  \"roa\",\n",
    "    \"Log Assets Growth (-1)\":    \"log_assets_growth\",\n",
    "    \"Dividend Yield (-1,-12)\":   \"dy\",\n",
    "    \"Log Return (-13,-36)\":      \"log_return_13_36\",\n",
    "    \"Log Issues (-1,-36)\":       \"log_issues_36\",\n",
    "    \"Beta (-1,-36)\":             \"beta\",\n",
    "    \"Std Dev (-1,-12)\":          \"rolling_std_252\",\n",
    "    \"Debt/Price (-1)\":           \"debt_price\",\n",
    "    \"Sales/Price (-1)\":          \"sales_price\",\n",
    "    }\n",
    "crsp_comp = winsorize(crsp_comp, variables_dict.values())"
   ]
  },
  {
   "cell_type": "code",
   "execution_count": null,
   "metadata": {},
   "outputs": [],
   "source": [
    "subsets_comp_crsp = get_subsets(crsp_comp) "
   ]
  },
  {
   "cell_type": "code",
   "execution_count": null,
   "metadata": {},
   "outputs": [],
   "source": [
    "table_1 = build_table_1(subsets_comp_crsp, variables_dict)"
   ]
  },
  {
   "cell_type": "code",
   "execution_count": null,
   "metadata": {},
   "outputs": [],
   "source": [
    "table_1"
   ]
  },
  {
   "cell_type": "code",
   "execution_count": null,
   "metadata": {},
   "outputs": [],
   "source": [
    "table_2 = build_table_2(subsets_comp_crsp, variables_dict)"
   ]
  },
  {
   "cell_type": "code",
   "execution_count": null,
   "metadata": {},
   "outputs": [],
   "source": [
    "table_2"
   ]
  },
  {
   "cell_type": "code",
   "execution_count": null,
   "metadata": {},
   "outputs": [],
   "source": [
    "figure_1 = create_figure_1(subsets_comp_crsp)"
   ]
  },
  {
   "cell_type": "code",
   "execution_count": null,
   "metadata": {},
   "outputs": [],
   "source": [
    "save_data(table_1, table_2, figure_1)"
   ]
  },
  {
   "cell_type": "code",
   "execution_count": null,
   "metadata": {},
   "outputs": [],
   "source": [
    "create_latex_document_from_pkl()\n",
    "compile_latex_document()"
   ]
  }
 ],
 "metadata": {
  "language_info": {
   "name": "python"
  }
 },
 "nbformat": 4,
 "nbformat_minor": 2
}
