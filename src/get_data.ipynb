{
 "cells": [
  {
   "cell_type": "code",
   "execution_count": 1,
   "metadata": {},
   "outputs": [],
   "source": [
    "# Standard library imports\n",
    "import logging\n",
    "import warnings\n",
    "from pathlib import Path\n",
    "\n",
    "# Third-party imports\n",
    "import pandas as pd\n",
    "import wrds\n",
    "\n",
    "# Suppress warnings\n",
    "warnings.filterwarnings(\"ignore\", category=FutureWarning)\n",
    "warnings.filterwarnings(\"ignore\")\n",
    "\n",
    "from settings import config\n",
    "from pull_compustat import *\n",
    "from pull_crsp import *\n",
    "from transform_crsp import *\n",
    "from transform_compustat import *"
   ]
  },
  {
   "cell_type": "code",
   "execution_count": 2,
   "metadata": {},
   "outputs": [],
   "source": [
    "# Change default pandas display options\n",
    "\n",
    "pd.options.display.max_columns = 30\n",
    "pd.options.display.max_colwidth = 200\n",
    "pd.set_option('display.float_format', lambda x: '%.4f' % x)\n",
    "pd.set_option('display.expand_frame_repr', False)\n",
    "\n",
    "# Global variables\n",
    "RAW_DATA_DIR = Path(config(\"RAW_DATA_DIR\"))\n",
    "RAW_DATA_DIR.mkdir(parents=True, exist_ok=True)\n",
    "OUTPUT_DIR = Path(config(\"OUTPUT_DIR\"))\n",
    "OUTPUT_DIR.mkdir(parents=True, exist_ok=True)\n",
    "WRDS_USERNAME = config(\"WRDS_USERNAME\")\n",
    "START_DATE = config(\"START_DATE\")\n",
    "END_DATE = config(\"END_DATE\")"
   ]
  },
  {
   "cell_type": "code",
   "execution_count": 3,
   "metadata": {},
   "outputs": [
    {
     "name": "stdout",
     "output_type": "stream",
     "text": [
      "Loading cached data from C:\\Users\\singe\\OneDrive - The University of Chicago\\Documents\\GitHub\\FM-ReturnPrediction\\_data\\raw\\CRSP_stock_d.parquet\n"
     ]
    }
   ],
   "source": [
    "crsp_d = pull_CRSP_stock(\n",
    "    start_date=START_DATE,\n",
    "    end_date=END_DATE,\n",
    "    wrds_username=WRDS_USERNAME,\n",
    "    freq='D',\n",
    "    data_dir=RAW_DATA_DIR,\n",
    "    file_name='CRSP_stock_d.parquet',\n",
    ")"
   ]
  },
  {
   "cell_type": "code",
   "execution_count": 4,
   "metadata": {},
   "outputs": [
    {
     "name": "stdout",
     "output_type": "stream",
     "text": [
      "Loading cached data from C:\\Users\\singe\\OneDrive - The University of Chicago\\Documents\\GitHub\\FM-ReturnPrediction\\_data\\raw\\CRSP_stock_m.parquet\n"
     ]
    }
   ],
   "source": [
    "crsp_m = pull_CRSP_stock(\n",
    "    start_date=START_DATE,\n",
    "    end_date=END_DATE,\n",
    "    wrds_username=WRDS_USERNAME,\n",
    "    freq='M',\n",
    "    data_dir=RAW_DATA_DIR,\n",
    "    file_name='CRSP_stock_m.parquet',\n",
    ")"
   ]
  },
  {
   "cell_type": "code",
   "execution_count": 5,
   "metadata": {},
   "outputs": [
    {
     "name": "stdout",
     "output_type": "stream",
     "text": [
      "Loading cached data from C:\\Users\\singe\\OneDrive - The University of Chicago\\Documents\\GitHub\\FM-ReturnPrediction\\_data\\raw\\Compustat_fund.parquet\n"
     ]
    }
   ],
   "source": [
    "comp = pull_Compustat(\n",
    "    start_date=START_DATE,\n",
    "    end_date=END_DATE,\n",
    "    wrds_username=WRDS_USERNAME,\n",
    "    data_dir=RAW_DATA_DIR,\n",
    "    file_name='Compustat_fund.parquet',\n",
    ")"
   ]
  },
  {
   "cell_type": "code",
   "execution_count": 6,
   "metadata": {},
   "outputs": [
    {
     "name": "stdout",
     "output_type": "stream",
     "text": [
      "Loading cached data from C:\\Users\\singe\\OneDrive - The University of Chicago\\Documents\\GitHub\\FM-ReturnPrediction\\_data\\raw\\CRSP_Comp_Link_Table.parquet\n"
     ]
    }
   ],
   "source": [
    "ccm = pull_CRSP_Comp_link_table(\n",
    "    wrds_username=WRDS_USERNAME,\n",
    "    data_dir=RAW_DATA_DIR,\n",
    "    file_name=\"CRSP_Comp_Link_Table.parquet\"\n",
    "    )"
   ]
  },
  {
   "cell_type": "code",
   "execution_count": 7,
   "metadata": {},
   "outputs": [
    {
     "name": "stdout",
     "output_type": "stream",
     "text": [
      "Loading cached data from C:\\Users\\singe\\OneDrive - The University of Chicago\\Documents\\GitHub\\FM-ReturnPrediction\\_data\\raw\\CRSP_index_d.parquet\n"
     ]
    }
   ],
   "source": [
    "crsp_index_d = pull_CRSP_index(\n",
    "    start_date=START_DATE,\n",
    "    end_date=END_DATE,\n",
    "    freq='D',\n",
    "    wrds_username=WRDS_USERNAME,\n",
    "    file_name=\"CRSP_index_d.parquet\")"
   ]
  },
  {
   "cell_type": "code",
   "execution_count": 8,
   "metadata": {},
   "outputs": [],
   "source": [
    "# 2) Calculate market equity\n",
    "crsp = calculate_market_equity(crsp_m)\n",
    "\n",
    "# 2) Add report date and calculate book equity\n",
    "comp = add_report_date(comp)\n",
    "comp = calc_book_equity(comp)\n",
    "comp = expand_compustat_annual_to_monthly(comp)\n"
   ]
  },
  {
   "cell_type": "code",
   "execution_count": 9,
   "metadata": {},
   "outputs": [],
   "source": [
    "# 3) Merge comp + crsp_m + ccm => crsp_comp\n",
    "crsp_comp = merge_CRSP_and_Compustat(crsp, comp, ccm)"
   ]
  },
  {
   "cell_type": "code",
   "execution_count": 10,
   "metadata": {},
   "outputs": [],
   "source": [
    "from calc_Lewellen_2014 import *"
   ]
  },
  {
   "cell_type": "code",
   "execution_count": 11,
   "metadata": {},
   "outputs": [],
   "source": [
    "crsp_comp          = calc_log_size(crsp_comp)"
   ]
  },
  {
   "cell_type": "code",
   "execution_count": 12,
   "metadata": {},
   "outputs": [],
   "source": [
    "crsp_comp            = calc_log_bm(crsp_comp)"
   ]
  },
  {
   "cell_type": "code",
   "execution_count": 13,
   "metadata": {},
   "outputs": [],
   "source": [
    "crsp_comp       = calc_return_12_2(crsp_comp)"
   ]
  },
  {
   "cell_type": "code",
   "execution_count": 14,
   "metadata": {},
   "outputs": [],
   "source": [
    "crsp_comp          = calc_accruals(crsp_comp) "
   ]
  },
  {
   "cell_type": "code",
   "execution_count": 15,
   "metadata": {},
   "outputs": [],
   "source": [
    "crsp_comp               = calc_roa(crsp_comp)"
   ]
  },
  {
   "cell_type": "code",
   "execution_count": 16,
   "metadata": {},
   "outputs": [],
   "source": [
    "crsp_comp = calc_log_assets_growth(crsp_comp)"
   ]
  },
  {
   "cell_type": "code",
   "execution_count": 17,
   "metadata": {},
   "outputs": [],
   "source": [
    "crsp_comp                = calc_dy(crsp_comp)"
   ]
  },
  {
   "cell_type": "code",
   "execution_count": 18,
   "metadata": {},
   "outputs": [],
   "source": [
    "crsp_comp  = calc_log_return_13_36(crsp_comp)"
   ]
  },
  {
   "cell_type": "code",
   "execution_count": 19,
   "metadata": {},
   "outputs": [],
   "source": [
    "crsp_comp     = calc_log_issues_12(crsp_comp)"
   ]
  },
  {
   "cell_type": "code",
   "execution_count": 20,
   "metadata": {},
   "outputs": [],
   "source": [
    "crsp_comp     = calc_log_issues_36(crsp_comp)"
   ]
  },
  {
   "cell_type": "code",
   "execution_count": 21,
   "metadata": {},
   "outputs": [],
   "source": [
    "crsp_comp        = calc_debt_price(crsp_comp)"
   ]
  },
  {
   "cell_type": "code",
   "execution_count": 22,
   "metadata": {},
   "outputs": [],
   "source": [
    "crsp_comp       = calc_sales_price(crsp_comp)"
   ]
  },
  {
   "cell_type": "code",
   "execution_count": 23,
   "metadata": {},
   "outputs": [],
   "source": [
    "crsp_comp = calc_std_12(crsp_d, crsp_comp)\n"
   ]
  },
  {
   "cell_type": "code",
   "execution_count": 24,
   "metadata": {},
   "outputs": [],
   "source": [
    "crsp_comp = calculate_rolling_beta(crsp_d, crsp_index_d, crsp_comp)"
   ]
  },
  {
   "cell_type": "code",
   "execution_count": 26,
   "metadata": {},
   "outputs": [],
   "source": [
    "# Winsorize the variables to remove outliers\n",
    "variables_dict = {\n",
    "    \"Return (%)\":                \"retx\",                # Assuming you are keeping this column name\n",
    "    \"Log Size (-1)\":             \"log_size\",\n",
    "    \"Log B/M (-1)\":              \"log_bm\",\n",
    "    \"Return (-2, -12)\":          \"return_12_2\",\n",
    "    \"Log Issues (-1,-12)\":       \"log_issues_12\",\n",
    "    \"Accruals (-1)\":             \"accruals_final\",\n",
    "    \"ROA (-1)\":                  \"roa\",\n",
    "    \"Log Assets Growth (-1)\":    \"log_assets_growth\",\n",
    "    \"Dividend Yield (-1,-12)\":   \"dy\",\n",
    "    \"Log Return (-13,-36)\":      \"log_return_13_36\",\n",
    "    \"Log Issues (-1,-36)\":       \"log_issues_36\",\n",
    "    \"Beta (-1,-36)\":             \"beta\",\n",
    "    \"Std Dev (-1,-12)\":          \"rolling_std_252\",\n",
    "    \"Debt/Price (-1)\":           \"debt_price\",\n",
    "    \"Sales/Price (-1)\":          \"sales_price\",\n",
    "    }\n",
    "crsp_comp = winsorize(crsp_comp, variables_dict.values())"
   ]
  },
  {
   "cell_type": "code",
   "execution_count": null,
   "metadata": {},
   "outputs": [],
   "source": [
    "\n",
    "def get_subsets(crsp_comp: pd.DataFrame) -> dict:\n",
    "    \"\"\"\n",
    "    Given a monthly CRSP DataFrame with columns at least:\n",
    "       ['mthcaldt', 'permno', 'me', 'primaryexch'],\n",
    "    compute the NYSE 20th and 50th percentile of 'me' each month, store them\n",
    "    in each row as 'me_20' and 'me_50', then build subset DataFrames:\n",
    "\n",
    "      1) all_stocks          : everyone\n",
    "      2) all_but_tiny_stocks : rows where me >= me_20\n",
    "      3) large_stocks        : rows where me >= me_50\n",
    "\n",
    "    If a particular month has no NYSE stocks (so me_20 or me_50 is NaN),\n",
    "    then no rows from that month go into the 'all_but_tiny_stocks' or\n",
    "    'large_stocks' subsets.\n",
    "\n",
    "    Returns\n",
    "    -------\n",
    "    dict\n",
    "        {\n",
    "          \"all_but_tiny_stocks\":  <DataFrame of rows with me >= me_20>,\n",
    "          \"large_stocks\":         <DataFrame of rows with me >= me_50>,\n",
    "          \"all_stocks\":           crsp_comp   (the entire dataset)\n",
    "        }\n",
    "    \"\"\"\n",
    "    # 1) Sort for consistent grouping\n",
    "    crsp_comp = crsp_comp.sort_values([\"mthcaldt\", \"permno\"]).copy()\n",
    "\n",
    "    # 2) Compute month-specific me_20 and me_50 from NYSE\n",
    "    #    group by mthcaldt, restrict to primaryexch == 'N'\n",
    "    #    then get quantile(0.2) and quantile(0.5)\n",
    "    nyse_me_percentiles = (\n",
    "        crsp_comp\n",
    "        .loc[crsp_comp[\"primaryexch\"] == \"N\"]      # keep only NYSE rows\n",
    "        .groupby(\"mthcaldt\")[\"me\"]\n",
    "        .quantile([0.2, 0.5])                      # get 20th & 50th\n",
    "        .unstack(level=1)                          # pivot so columns = [0.2, 0.5]\n",
    "        .reset_index()\n",
    "        .rename(columns={0.2: \"me_20\", 0.5: \"me_50\"})\n",
    "    )\n",
    "    # nyse_stats has columns ['mthcaldt', 'me_20', 'me_50']\n",
    "\n",
    "    # 3) Merge these percentile columns back to crsp_comp\n",
    "    crsp_comp = pd.merge(\n",
    "        crsp_comp,\n",
    "        nyse_me_percentiles,\n",
    "        on=\"mthcaldt\",\n",
    "        how=\"left\"\n",
    "    )\n",
    "\n",
    "    # 4) Create boolean columns for \"all_but_tiny\" and \"large\"\n",
    "    #    If me_20 or me_50 is NaN (month has no NYSE?), these will be False\n",
    "    crsp_comp[\"is_all_but_tiny\"] = crsp_comp[\"me\"] >= crsp_comp[\"me_20\"]\n",
    "    crsp_comp[\"is_large\"]        = crsp_comp[\"me\"] >= crsp_comp[\"me_50\"]\n",
    "\n",
    "    # 5) Now build the dictionary of DataFrames\n",
    "    all_stocks_df = crsp_comp.copy()\n",
    "\n",
    "    # For \"all_but_tiny\", we keep only rows with is_all_but_tiny == True\n",
    "    all_but_tiny_df = crsp_comp.loc[crsp_comp[\"is_all_but_tiny\"] == True].copy()\n",
    "\n",
    "    # For \"large_stocks\", keep only rows with is_large == True\n",
    "    large_stocks_df = crsp_comp.loc[crsp_comp[\"is_large\"] == True].copy()\n",
    "\n",
    "    subsets_crsp_comp = {\n",
    "        \"all_stocks\":          all_stocks_df,\n",
    "        \"all_but_tiny_stocks\": all_but_tiny_df,\n",
    "        \"large_stocks\":        large_stocks_df,\n",
    "    }\n",
    "    return subsets_crsp_comp"
   ]
  },
  {
   "cell_type": "code",
   "execution_count": 47,
   "metadata": {},
   "outputs": [],
   "source": [
    "subsets_comp_crsp = get_subsets(crsp_comp) "
   ]
  },
  {
   "cell_type": "code",
   "execution_count": 48,
   "metadata": {},
   "outputs": [],
   "source": [
    "def build_table_1(subsets_crsp_comp: dict,\n",
    "                  variables_dict: dict) -> pd.DataFrame:\n",
    "    \"\"\"\n",
    "    For each variable in `variables_dict`, compute monthly cross-sectional\n",
    "    (mean, std, count) and then time-series average those stats. We'll do it\n",
    "    for each subset in `subsets_crsp_comp`.\n",
    "\n",
    "    Parameters\n",
    "    ----------\n",
    "    subsets_crsp_comp : dict\n",
    "        {\n",
    "          \"all_stocks\":          <DataFrame>,\n",
    "          \"all_but_tiny_stocks\": <DataFrame>,\n",
    "          \"large_stocks\":        <DataFrame>\n",
    "        }\n",
    "    variables_dict : dict\n",
    "        Example:\n",
    "        {\n",
    "          \"Return (%)\": \"retx\",\n",
    "          \"Log Size (-1)\": \"log_size\",\n",
    "          \"Log B/M (-1)\":  \"log_bm\",\n",
    "           ...\n",
    "        }\n",
    "\n",
    "    Returns\n",
    "    -------\n",
    "    pd.DataFrame\n",
    "       One row per variable in `variables_dict`,\n",
    "       columns = [<subset>_Mean, <subset>_Std, <subset>_N] for each subset.\n",
    "    \"\"\"\n",
    "    results = []\n",
    "\n",
    "    for var_label, var_col in variables_dict.items():\n",
    "        row_stats = []\n",
    "\n",
    "        # For each subset DataFrame in subsets_crsp_comp\n",
    "        for subset_name, df_subset in subsets_crsp_comp.items():\n",
    "            # 1) Filter out nulls\n",
    "            df_var = df_subset.dropna(subset=[var_col])\n",
    "            if df_var.empty:\n",
    "                # If none, fill with NaN\n",
    "                row_stats.extend([np.nan, np.nan, np.nan])\n",
    "                continue\n",
    "\n",
    "            # 2) Group by month, compute cross-sectional stats\n",
    "            monthly_stats = df_var.groupby(\"mthcaldt\")[var_col].agg([\"mean\", \"std\", \"count\"])\n",
    "\n",
    "            # 3) Time-series average across months\n",
    "            avg_mean = monthly_stats[\"mean\"].mean()\n",
    "            avg_std  = monthly_stats[\"std\"].mean()\n",
    "            avg_n    = monthly_stats[\"count\"].mean()\n",
    "\n",
    "            row_stats.extend([avg_mean, avg_std, avg_n])\n",
    "\n",
    "        # We'll store a tuple of: (var_label, subset1 stats, subset2 stats, ...)\n",
    "        results.append((var_label, *row_stats))\n",
    "\n",
    "    # Build columns\n",
    "    columns = [\"Variable\"]\n",
    "    for subset_name in subsets_crsp_comp.keys():\n",
    "        columns += [\n",
    "            f\"{subset_name}_Mean\",\n",
    "            f\"{subset_name}_Std\",\n",
    "            f\"{subset_name}_N\"\n",
    "        ]\n",
    "\n",
    "    summary_df = pd.DataFrame(results, columns=columns)\n",
    "    return summary_df"
   ]
  },
  {
   "cell_type": "code",
   "execution_count": 49,
   "metadata": {},
   "outputs": [],
   "source": [
    "table_1 = build_table_1(subsets_comp_crsp, variables_dict)"
   ]
  },
  {
   "cell_type": "code",
   "execution_count": 50,
   "metadata": {},
   "outputs": [
    {
     "data": {
      "text/html": [
       "<div>\n",
       "<style scoped>\n",
       "    .dataframe tbody tr th:only-of-type {\n",
       "        vertical-align: middle;\n",
       "    }\n",
       "\n",
       "    .dataframe tbody tr th {\n",
       "        vertical-align: top;\n",
       "    }\n",
       "\n",
       "    .dataframe thead th {\n",
       "        text-align: right;\n",
       "    }\n",
       "</style>\n",
       "<table border=\"1\" class=\"dataframe\">\n",
       "  <thead>\n",
       "    <tr style=\"text-align: right;\">\n",
       "      <th></th>\n",
       "      <th>Variable</th>\n",
       "      <th>all_stocks_Mean</th>\n",
       "      <th>all_stocks_Std</th>\n",
       "      <th>all_stocks_N</th>\n",
       "      <th>all_but_tiny_stocks_Mean</th>\n",
       "      <th>all_but_tiny_stocks_Std</th>\n",
       "      <th>all_but_tiny_stocks_N</th>\n",
       "      <th>large_stocks_Mean</th>\n",
       "      <th>large_stocks_Std</th>\n",
       "      <th>large_stocks_N</th>\n",
       "    </tr>\n",
       "  </thead>\n",
       "  <tbody>\n",
       "    <tr>\n",
       "      <th>0</th>\n",
       "      <td>Return (%)</td>\n",
       "      <td>0.0085</td>\n",
       "      <td>0.1582</td>\n",
       "      <td>4055.1071</td>\n",
       "      <td>0.0210</td>\n",
       "      <td>0.1182</td>\n",
       "      <td>2175.1250</td>\n",
       "      <td>0.0209</td>\n",
       "      <td>0.0996</td>\n",
       "      <td>1178.8929</td>\n",
       "    </tr>\n",
       "    <tr>\n",
       "      <th>1</th>\n",
       "      <td>Log Size (-1)</td>\n",
       "      <td>13.5281</td>\n",
       "      <td>2.3682</td>\n",
       "      <td>4017.5273</td>\n",
       "      <td>15.2922</td>\n",
       "      <td>1.4156</td>\n",
       "      <td>2156.3091</td>\n",
       "      <td>16.2855</td>\n",
       "      <td>1.1021</td>\n",
       "      <td>1171.2000</td>\n",
       "    </tr>\n",
       "    <tr>\n",
       "      <th>2</th>\n",
       "      <td>Log B/M (-1)</td>\n",
       "      <td>-7.5670</td>\n",
       "      <td>1.3216</td>\n",
       "      <td>4017.5273</td>\n",
       "      <td>-7.9505</td>\n",
       "      <td>1.1984</td>\n",
       "      <td>2156.3091</td>\n",
       "      <td>-8.2327</td>\n",
       "      <td>1.1468</td>\n",
       "      <td>1171.2000</td>\n",
       "    </tr>\n",
       "    <tr>\n",
       "      <th>3</th>\n",
       "      <td>Return (-2, -12)</td>\n",
       "      <td>0.1131</td>\n",
       "      <td>0.6467</td>\n",
       "      <td>3547.1818</td>\n",
       "      <td>0.2086</td>\n",
       "      <td>0.5470</td>\n",
       "      <td>1939.2045</td>\n",
       "      <td>0.2099</td>\n",
       "      <td>0.5258</td>\n",
       "      <td>1077.9091</td>\n",
       "    </tr>\n",
       "    <tr>\n",
       "      <th>4</th>\n",
       "      <td>Log Issues (-1,-12)</td>\n",
       "      <td>-0.0098</td>\n",
       "      <td>0.3937</td>\n",
       "      <td>3547.9545</td>\n",
       "      <td>0.0253</td>\n",
       "      <td>0.1542</td>\n",
       "      <td>1939.4091</td>\n",
       "      <td>0.0185</td>\n",
       "      <td>0.1326</td>\n",
       "      <td>1077.9773</td>\n",
       "    </tr>\n",
       "    <tr>\n",
       "      <th>5</th>\n",
       "      <td>Accruals (-1)</td>\n",
       "      <td>-883.9598</td>\n",
       "      <td>3480.2100</td>\n",
       "      <td>3298.9464</td>\n",
       "      <td>-1566.2511</td>\n",
       "      <td>4521.0902</td>\n",
       "      <td>1731.6786</td>\n",
       "      <td>-2459.8581</td>\n",
       "      <td>5557.4966</td>\n",
       "      <td>955.1786</td>\n",
       "    </tr>\n",
       "    <tr>\n",
       "      <th>6</th>\n",
       "      <td>ROA (-1)</td>\n",
       "      <td>-0.0955</td>\n",
       "      <td>0.3012</td>\n",
       "      <td>4045.4107</td>\n",
       "      <td>0.0072</td>\n",
       "      <td>0.1470</td>\n",
       "      <td>2172.4643</td>\n",
       "      <td>0.0345</td>\n",
       "      <td>0.1165</td>\n",
       "      <td>1178.1964</td>\n",
       "    </tr>\n",
       "    <tr>\n",
       "      <th>7</th>\n",
       "      <td>Log Assets Growth (-1)</td>\n",
       "      <td>0.0795</td>\n",
       "      <td>0.3126</td>\n",
       "      <td>3547.9545</td>\n",
       "      <td>0.1040</td>\n",
       "      <td>0.2357</td>\n",
       "      <td>1939.4091</td>\n",
       "      <td>0.1068</td>\n",
       "      <td>0.2133</td>\n",
       "      <td>1077.9773</td>\n",
       "    </tr>\n",
       "    <tr>\n",
       "      <th>8</th>\n",
       "      <td>Dividend Yield (-1,-12)</td>\n",
       "      <td>38.0175</td>\n",
       "      <td>143.6514</td>\n",
       "      <td>4003.0727</td>\n",
       "      <td>60.8475</td>\n",
       "      <td>176.1853</td>\n",
       "      <td>2146.9818</td>\n",
       "      <td>83.7763</td>\n",
       "      <td>202.6555</td>\n",
       "      <td>1165.4727</td>\n",
       "    </tr>\n",
       "    <tr>\n",
       "      <th>9</th>\n",
       "      <td>Log Return (-13,-36)</td>\n",
       "      <td>-0.2443</td>\n",
       "      <td>0.8244</td>\n",
       "      <td>1929.8500</td>\n",
       "      <td>0.0073</td>\n",
       "      <td>0.5353</td>\n",
       "      <td>1123.3000</td>\n",
       "      <td>0.0435</td>\n",
       "      <td>0.4891</td>\n",
       "      <td>650.4000</td>\n",
       "    </tr>\n",
       "    <tr>\n",
       "      <th>10</th>\n",
       "      <td>Log Issues (-1,-36)</td>\n",
       "      <td>-0.0158</td>\n",
       "      <td>0.5529</td>\n",
       "      <td>1930.5000</td>\n",
       "      <td>0.0653</td>\n",
       "      <td>0.3072</td>\n",
       "      <td>1123.5500</td>\n",
       "      <td>0.0551</td>\n",
       "      <td>0.3046</td>\n",
       "      <td>650.4500</td>\n",
       "    </tr>\n",
       "    <tr>\n",
       "      <th>11</th>\n",
       "      <td>Beta (-1,-36)</td>\n",
       "      <td>1.1220</td>\n",
       "      <td>0.8293</td>\n",
       "      <td>1958.3393</td>\n",
       "      <td>1.2453</td>\n",
       "      <td>0.6689</td>\n",
       "      <td>929.3571</td>\n",
       "      <td>1.1791</td>\n",
       "      <td>0.6404</td>\n",
       "      <td>440.6786</td>\n",
       "    </tr>\n",
       "    <tr>\n",
       "      <th>12</th>\n",
       "      <td>Std Dev (-1,-12)</td>\n",
       "      <td>0.0409</td>\n",
       "      <td>0.0249</td>\n",
       "      <td>3991.5536</td>\n",
       "      <td>0.0306</td>\n",
       "      <td>0.0146</td>\n",
       "      <td>2153.2143</td>\n",
       "      <td>0.0265</td>\n",
       "      <td>0.0110</td>\n",
       "      <td>1171.1964</td>\n",
       "    </tr>\n",
       "    <tr>\n",
       "      <th>13</th>\n",
       "      <td>Debt/Price (-1)</td>\n",
       "      <td>0.0014</td>\n",
       "      <td>0.0055</td>\n",
       "      <td>4006.7091</td>\n",
       "      <td>0.0010</td>\n",
       "      <td>0.0043</td>\n",
       "      <td>2148.7818</td>\n",
       "      <td>0.0006</td>\n",
       "      <td>0.0016</td>\n",
       "      <td>1167.1818</td>\n",
       "    </tr>\n",
       "    <tr>\n",
       "      <th>14</th>\n",
       "      <td>Sales/Price (-1)</td>\n",
       "      <td>0.0020</td>\n",
       "      <td>0.0053</td>\n",
       "      <td>4008.3636</td>\n",
       "      <td>0.0013</td>\n",
       "      <td>0.0037</td>\n",
       "      <td>2153.9818</td>\n",
       "      <td>0.0008</td>\n",
       "      <td>0.0021</td>\n",
       "      <td>1170.5273</td>\n",
       "    </tr>\n",
       "  </tbody>\n",
       "</table>\n",
       "</div>"
      ],
      "text/plain": [
       "                   Variable  all_stocks_Mean  all_stocks_Std  all_stocks_N  all_but_tiny_stocks_Mean  all_but_tiny_stocks_Std  all_but_tiny_stocks_N  large_stocks_Mean  large_stocks_Std  large_stocks_N\n",
       "0                Return (%)           0.0085          0.1582     4055.1071                    0.0210                   0.1182              2175.1250             0.0209            0.0996       1178.8929\n",
       "1             Log Size (-1)          13.5281          2.3682     4017.5273                   15.2922                   1.4156              2156.3091            16.2855            1.1021       1171.2000\n",
       "2              Log B/M (-1)          -7.5670          1.3216     4017.5273                   -7.9505                   1.1984              2156.3091            -8.2327            1.1468       1171.2000\n",
       "3          Return (-2, -12)           0.1131          0.6467     3547.1818                    0.2086                   0.5470              1939.2045             0.2099            0.5258       1077.9091\n",
       "4       Log Issues (-1,-12)          -0.0098          0.3937     3547.9545                    0.0253                   0.1542              1939.4091             0.0185            0.1326       1077.9773\n",
       "5             Accruals (-1)        -883.9598       3480.2100     3298.9464                -1566.2511                4521.0902              1731.6786         -2459.8581         5557.4966        955.1786\n",
       "6                  ROA (-1)          -0.0955          0.3012     4045.4107                    0.0072                   0.1470              2172.4643             0.0345            0.1165       1178.1964\n",
       "7    Log Assets Growth (-1)           0.0795          0.3126     3547.9545                    0.1040                   0.2357              1939.4091             0.1068            0.2133       1077.9773\n",
       "8   Dividend Yield (-1,-12)          38.0175        143.6514     4003.0727                   60.8475                 176.1853              2146.9818            83.7763          202.6555       1165.4727\n",
       "9      Log Return (-13,-36)          -0.2443          0.8244     1929.8500                    0.0073                   0.5353              1123.3000             0.0435            0.4891        650.4000\n",
       "10      Log Issues (-1,-36)          -0.0158          0.5529     1930.5000                    0.0653                   0.3072              1123.5500             0.0551            0.3046        650.4500\n",
       "11            Beta (-1,-36)           1.1220          0.8293     1958.3393                    1.2453                   0.6689               929.3571             1.1791            0.6404        440.6786\n",
       "12         Std Dev (-1,-12)           0.0409          0.0249     3991.5536                    0.0306                   0.0146              2153.2143             0.0265            0.0110       1171.1964\n",
       "13          Debt/Price (-1)           0.0014          0.0055     4006.7091                    0.0010                   0.0043              2148.7818             0.0006            0.0016       1167.1818\n",
       "14         Sales/Price (-1)           0.0020          0.0053     4008.3636                    0.0013                   0.0037              2153.9818             0.0008            0.0021       1170.5273"
      ]
     },
     "execution_count": 50,
     "metadata": {},
     "output_type": "execute_result"
    }
   ],
   "source": [
    "table_1"
   ]
  },
  {
   "cell_type": "code",
   "execution_count": null,
   "metadata": {},
   "outputs": [],
   "source": []
  }
 ],
 "metadata": {
  "kernelspec": {
   "display_name": "blank",
   "language": "python",
   "name": "python3"
  },
  "language_info": {
   "codemirror_mode": {
    "name": "ipython",
    "version": 3
   },
   "file_extension": ".py",
   "mimetype": "text/x-python",
   "name": "python",
   "nbconvert_exporter": "python",
   "pygments_lexer": "ipython3",
   "version": "3.12.8"
  }
 },
 "nbformat": 4,
 "nbformat_minor": 2
}
