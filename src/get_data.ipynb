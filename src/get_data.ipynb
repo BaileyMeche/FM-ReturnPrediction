{
 "cells": [
  {
   "cell_type": "code",
   "execution_count": 1,
   "metadata": {},
   "outputs": [],
   "source": [
    "# Standard library imports\n",
    "import logging\n",
    "import warnings\n",
    "from pathlib import Path\n",
    "\n",
    "# Third-party imports\n",
    "import pandas as pd\n",
    "import wrds\n",
    "\n",
    "# Suppress warnings\n",
    "warnings.filterwarnings(\"ignore\", category=FutureWarning)\n",
    "warnings.filterwarnings(\"ignore\")\n",
    "\n",
    "from settings import config\n",
    "from pull_compustat import *\n",
    "from pull_crsp import *\n",
    "from transform_crsp import *\n",
    "from transform_compustat import *\n",
    "from calc_Lewellen_2014 import *"
   ]
  },
  {
   "cell_type": "code",
   "execution_count": 2,
   "metadata": {},
   "outputs": [],
   "source": [
    "# Change default pandas display options\n",
    "\n",
    "pd.options.display.max_columns = 30\n",
    "pd.options.display.max_colwidth = 200\n",
    "pd.set_option('display.float_format', lambda x: '%.4f' % x)\n",
    "pd.set_option('display.expand_frame_repr', False)\n",
    "\n",
    "# Global variables\n",
    "RAW_DATA_DIR = Path(config(\"RAW_DATA_DIR\"))\n",
    "RAW_DATA_DIR.mkdir(parents=True, exist_ok=True)\n",
    "OUTPUT_DIR = Path(config(\"OUTPUT_DIR\"))\n",
    "OUTPUT_DIR.mkdir(parents=True, exist_ok=True)\n",
    "WRDS_USERNAME = config(\"WRDS_USERNAME\")\n",
    "START_DATE = config(\"START_DATE\")\n",
    "END_DATE = config(\"END_DATE\")\n"
   ]
  },
  {
   "cell_type": "code",
   "execution_count": 3,
   "metadata": {},
   "outputs": [
    {
     "name": "stdout",
     "output_type": "stream",
     "text": [
      "Loading cached data from C:\\Users\\eduar\\Documents\\data\\raw\\CRSP_stock_d.parquet\n"
     ]
    }
   ],
   "source": [
    "crsp_d = pull_CRSP_stock(\n",
    "    start_date=START_DATE,\n",
    "    end_date=END_DATE,\n",
    "    wrds_username=WRDS_USERNAME,\n",
    "    freq='D',\n",
    "    data_dir=RAW_DATA_DIR,\n",
    "    file_name='CRSP_stock_d.parquet',\n",
    ")"
   ]
  },
  {
   "cell_type": "code",
   "execution_count": 25,
   "metadata": {},
   "outputs": [
    {
     "name": "stdout",
     "output_type": "stream",
     "text": [
      "Loading cached data from C:\\Users\\eduar\\Documents\\data\\raw\\CRSP_stock_m.parquet\n"
     ]
    }
   ],
   "source": [
    "crsp_m = pull_CRSP_stock(\n",
    "    start_date=START_DATE,\n",
    "    end_date=END_DATE,\n",
    "    wrds_username=WRDS_USERNAME,\n",
    "    freq='M',\n",
    "    data_dir=RAW_DATA_DIR,\n",
    "    file_name='CRSP_stock_m.parquet',\n",
    ")"
   ]
  },
  {
   "cell_type": "code",
   "execution_count": 170,
   "metadata": {},
   "outputs": [
    {
     "name": "stdout",
     "output_type": "stream",
     "text": [
      "Loading library list...\n",
      "Done\n",
      "Saved data to C:\\Users\\eduar\\Documents\\data\\raw\\Compustat_fund.parquet\n"
     ]
    }
   ],
   "source": [
    "comp = pull_Compustat(\n",
    "    start_date=START_DATE,\n",
    "    end_date=END_DATE,\n",
    "    wrds_username=WRDS_USERNAME,\n",
    "    data_dir=RAW_DATA_DIR,\n",
    "    file_name='Compustat_fund.parquet',\n",
    ")"
   ]
  },
  {
   "cell_type": "code",
   "execution_count": 136,
   "metadata": {},
   "outputs": [
    {
     "name": "stdout",
     "output_type": "stream",
     "text": [
      "Loading library list...\n",
      "Done\n",
      "Saved data to C:\\Users\\eduar\\Documents\\data\\raw\\CRSP_Comp_Link_Table.parquet\n"
     ]
    }
   ],
   "source": [
    "ccm = pull_CRSP_Comp_link_table(\n",
    "    wrds_username=WRDS_USERNAME,\n",
    "    data_dir=RAW_DATA_DIR,\n",
    "    file_name=\"CRSP_Comp_Link_Table.parquet\"\n",
    "    )"
   ]
  },
  {
   "cell_type": "code",
   "execution_count": 7,
   "metadata": {},
   "outputs": [
    {
     "name": "stdout",
     "output_type": "stream",
     "text": [
      "Loading cached data from C:\\Users\\eduar\\Documents\\data\\raw\\CRSP_index_d.parquet\n"
     ]
    }
   ],
   "source": [
    "crsp_index_d = pull_CRSP_index(\n",
    "    start_date=START_DATE,\n",
    "    end_date=END_DATE,\n",
    "    freq='D',\n",
    "    wrds_username=WRDS_USERNAME,\n",
    "    file_name=\"CRSP_index_d.parquet\")"
   ]
  },
  {
   "cell_type": "code",
   "execution_count": 171,
   "metadata": {},
   "outputs": [
    {
     "data": {
      "text/html": [
       "<div>\n",
       "<style scoped>\n",
       "    .dataframe tbody tr th:only-of-type {\n",
       "        vertical-align: middle;\n",
       "    }\n",
       "\n",
       "    .dataframe tbody tr th {\n",
       "        vertical-align: top;\n",
       "    }\n",
       "\n",
       "    .dataframe thead th {\n",
       "        text-align: right;\n",
       "    }\n",
       "</style>\n",
       "<table border=\"1\" class=\"dataframe\">\n",
       "  <thead>\n",
       "    <tr style=\"text-align: right;\">\n",
       "      <th></th>\n",
       "      <th>permno</th>\n",
       "      <th>permco</th>\n",
       "      <th>mthcaldt</th>\n",
       "      <th>issuertype</th>\n",
       "      <th>securitytype</th>\n",
       "      <th>securitysubtype</th>\n",
       "      <th>sharetype</th>\n",
       "      <th>usincflg</th>\n",
       "      <th>primaryexch</th>\n",
       "      <th>conditionaltype</th>\n",
       "      <th>tradingstatusflg</th>\n",
       "      <th>totret</th>\n",
       "      <th>retx</th>\n",
       "      <th>prc</th>\n",
       "      <th>shrout</th>\n",
       "      <th>...</th>\n",
       "      <th>non_cash_current_assets</th>\n",
       "      <th>lct</th>\n",
       "      <th>total_debt</th>\n",
       "      <th>depreciation</th>\n",
       "      <th>dvpd</th>\n",
       "      <th>dvc</th>\n",
       "      <th>dvt</th>\n",
       "      <th>pstk</th>\n",
       "      <th>pstkl</th>\n",
       "      <th>pstkrv</th>\n",
       "      <th>txditc</th>\n",
       "      <th>seq</th>\n",
       "      <th>report_date</th>\n",
       "      <th>ps</th>\n",
       "      <th>be</th>\n",
       "    </tr>\n",
       "  </thead>\n",
       "  <tbody>\n",
       "    <tr>\n",
       "      <th>230922</th>\n",
       "      <td>91405</td>\n",
       "      <td>58620</td>\n",
       "      <td>2009-06-30</td>\n",
       "      <td>CORP</td>\n",
       "      <td>EQTY</td>\n",
       "      <td>COM</td>\n",
       "      <td>NS</td>\n",
       "      <td>Y</td>\n",
       "      <td>Q</td>\n",
       "      <td>RW</td>\n",
       "      <td>A</td>\n",
       "      <td>-0.0989</td>\n",
       "      <td>-0.0989</td>\n",
       "      <td>8.1100</td>\n",
       "      <td>13225</td>\n",
       "      <td>...</td>\n",
       "      <td>&lt;NA&gt;</td>\n",
       "      <td>&lt;NA&gt;</td>\n",
       "      <td>40.4810</td>\n",
       "      <td>0.6500</td>\n",
       "      <td>&lt;NA&gt;</td>\n",
       "      <td>0.0000</td>\n",
       "      <td>0.0000</td>\n",
       "      <td>0.0000</td>\n",
       "      <td>0.0000</td>\n",
       "      <td>0.0000</td>\n",
       "      <td>0.0000</td>\n",
       "      <td>110.5020</td>\n",
       "      <td>2009-04-30</td>\n",
       "      <td>0.0000</td>\n",
       "      <td>110.5020</td>\n",
       "    </tr>\n",
       "    <tr>\n",
       "      <th>230923</th>\n",
       "      <td>91405</td>\n",
       "      <td>58620</td>\n",
       "      <td>2010-06-30</td>\n",
       "      <td>CORP</td>\n",
       "      <td>EQTY</td>\n",
       "      <td>COM</td>\n",
       "      <td>NS</td>\n",
       "      <td>Y</td>\n",
       "      <td>Q</td>\n",
       "      <td>RW</td>\n",
       "      <td>A</td>\n",
       "      <td>-0.0052</td>\n",
       "      <td>-0.0052</td>\n",
       "      <td>5.7300</td>\n",
       "      <td>13225</td>\n",
       "      <td>...</td>\n",
       "      <td>&lt;NA&gt;</td>\n",
       "      <td>&lt;NA&gt;</td>\n",
       "      <td>35.3280</td>\n",
       "      <td>0.7620</td>\n",
       "      <td>&lt;NA&gt;</td>\n",
       "      <td>0.0000</td>\n",
       "      <td>0.0000</td>\n",
       "      <td>0.0000</td>\n",
       "      <td>0.0000</td>\n",
       "      <td>0.0000</td>\n",
       "      <td>0.0000</td>\n",
       "      <td>107.4480</td>\n",
       "      <td>2010-04-30</td>\n",
       "      <td>0.0000</td>\n",
       "      <td>107.4480</td>\n",
       "    </tr>\n",
       "    <tr>\n",
       "      <th>230924</th>\n",
       "      <td>91405</td>\n",
       "      <td>58620</td>\n",
       "      <td>2011-06-30</td>\n",
       "      <td>CORP</td>\n",
       "      <td>EQTY</td>\n",
       "      <td>COM</td>\n",
       "      <td>NS</td>\n",
       "      <td>Y</td>\n",
       "      <td>Q</td>\n",
       "      <td>RW</td>\n",
       "      <td>A</td>\n",
       "      <td>0.0015</td>\n",
       "      <td>0.0015</td>\n",
       "      <td>6.7800</td>\n",
       "      <td>12797</td>\n",
       "      <td>...</td>\n",
       "      <td>&lt;NA&gt;</td>\n",
       "      <td>&lt;NA&gt;</td>\n",
       "      <td>25.1680</td>\n",
       "      <td>0.8330</td>\n",
       "      <td>&lt;NA&gt;</td>\n",
       "      <td>0.0000</td>\n",
       "      <td>0.0000</td>\n",
       "      <td>0.0000</td>\n",
       "      <td>0.0000</td>\n",
       "      <td>0.0000</td>\n",
       "      <td>0.0000</td>\n",
       "      <td>108.1390</td>\n",
       "      <td>2011-04-30</td>\n",
       "      <td>0.0000</td>\n",
       "      <td>108.1390</td>\n",
       "    </tr>\n",
       "    <tr>\n",
       "      <th>230925</th>\n",
       "      <td>91405</td>\n",
       "      <td>58620</td>\n",
       "      <td>2012-06-29</td>\n",
       "      <td>CORP</td>\n",
       "      <td>EQTY</td>\n",
       "      <td>COM</td>\n",
       "      <td>NS</td>\n",
       "      <td>Y</td>\n",
       "      <td>Q</td>\n",
       "      <td>RW</td>\n",
       "      <td>A</td>\n",
       "      <td>-0.0719</td>\n",
       "      <td>-0.0719</td>\n",
       "      <td>5.2900</td>\n",
       "      <td>12645</td>\n",
       "      <td>...</td>\n",
       "      <td>&lt;NA&gt;</td>\n",
       "      <td>&lt;NA&gt;</td>\n",
       "      <td>20.0000</td>\n",
       "      <td>0.7120</td>\n",
       "      <td>&lt;NA&gt;</td>\n",
       "      <td>0.6140</td>\n",
       "      <td>0.6140</td>\n",
       "      <td>0.0000</td>\n",
       "      <td>0.0000</td>\n",
       "      <td>0.0000</td>\n",
       "      <td>0.0000</td>\n",
       "      <td>107.0650</td>\n",
       "      <td>2012-04-30</td>\n",
       "      <td>0.0000</td>\n",
       "      <td>107.0650</td>\n",
       "    </tr>\n",
       "    <tr>\n",
       "      <th>230926</th>\n",
       "      <td>91405</td>\n",
       "      <td>58620</td>\n",
       "      <td>2013-06-28</td>\n",
       "      <td>CORP</td>\n",
       "      <td>EQTY</td>\n",
       "      <td>COM</td>\n",
       "      <td>NS</td>\n",
       "      <td>Y</td>\n",
       "      <td>Q</td>\n",
       "      <td>RW</td>\n",
       "      <td>A</td>\n",
       "      <td>0.0194</td>\n",
       "      <td>0.0194</td>\n",
       "      <td>6.3200</td>\n",
       "      <td>12645</td>\n",
       "      <td>...</td>\n",
       "      <td>&lt;NA&gt;</td>\n",
       "      <td>&lt;NA&gt;</td>\n",
       "      <td>15.0000</td>\n",
       "      <td>0.7410</td>\n",
       "      <td>&lt;NA&gt;</td>\n",
       "      <td>0.6690</td>\n",
       "      <td>0.6690</td>\n",
       "      <td>0.0000</td>\n",
       "      <td>0.0000</td>\n",
       "      <td>0.0000</td>\n",
       "      <td>0.0000</td>\n",
       "      <td>103.8490</td>\n",
       "      <td>2013-04-30</td>\n",
       "      <td>0.0000</td>\n",
       "      <td>103.8490</td>\n",
       "    </tr>\n",
       "  </tbody>\n",
       "</table>\n",
       "<p>5 rows × 40 columns</p>\n",
       "</div>"
      ],
      "text/plain": [
       "        permno  permco   mthcaldt issuertype securitytype securitysubtype sharetype usincflg primaryexch conditionaltype tradingstatusflg  totret    retx    prc  shrout  ... non_cash_current_assets   lct total_debt depreciation  dvpd    dvc    dvt   pstk  pstkl  pstkrv  txditc      seq  report_date     ps       be\n",
       "230922   91405   58620 2009-06-30       CORP         EQTY             COM        NS        Y           Q              RW                A -0.0989 -0.0989 8.1100   13225  ...                    <NA>  <NA>    40.4810       0.6500  <NA> 0.0000 0.0000 0.0000 0.0000  0.0000  0.0000 110.5020   2009-04-30 0.0000 110.5020\n",
       "230923   91405   58620 2010-06-30       CORP         EQTY             COM        NS        Y           Q              RW                A -0.0052 -0.0052 5.7300   13225  ...                    <NA>  <NA>    35.3280       0.7620  <NA> 0.0000 0.0000 0.0000 0.0000  0.0000  0.0000 107.4480   2010-04-30 0.0000 107.4480\n",
       "230924   91405   58620 2011-06-30       CORP         EQTY             COM        NS        Y           Q              RW                A  0.0015  0.0015 6.7800   12797  ...                    <NA>  <NA>    25.1680       0.8330  <NA> 0.0000 0.0000 0.0000 0.0000  0.0000  0.0000 108.1390   2011-04-30 0.0000 108.1390\n",
       "230925   91405   58620 2012-06-29       CORP         EQTY             COM        NS        Y           Q              RW                A -0.0719 -0.0719 5.2900   12645  ...                    <NA>  <NA>    20.0000       0.7120  <NA> 0.6140 0.6140 0.0000 0.0000  0.0000  0.0000 107.0650   2012-04-30 0.0000 107.0650\n",
       "230926   91405   58620 2013-06-28       CORP         EQTY             COM        NS        Y           Q              RW                A  0.0194  0.0194 6.3200   12645  ...                    <NA>  <NA>    15.0000       0.7410  <NA> 0.6690 0.6690 0.0000 0.0000  0.0000  0.0000 103.8490   2013-04-30 0.0000 103.8490\n",
       "\n",
       "[5 rows x 40 columns]"
      ]
     },
     "execution_count": 171,
     "metadata": {},
     "output_type": "execute_result"
    }
   ],
   "source": [
    "crsp = calculate_market_equity(crsp_m)\n",
    "\n",
    "comp = add_report_date(comp)\n",
    "comp = calc_book_equity(comp)\n",
    "\n",
    "crsp_comp = merge_CRSP_and_Compustat(crsp, comp, ccm)\n",
    "\n",
    "crsp_comp.tail()"
   ]
  },
  {
   "cell_type": "code",
   "execution_count": null,
   "metadata": {},
   "outputs": [],
   "source": [
    "subsets = get_subsets(crsp)"
   ]
  },
  {
   "cell_type": "code",
   "execution_count": null,
   "metadata": {},
   "outputs": [],
   "source": [
    "returns = crsp.pivot_table(index='mthcaldt', columns='permno', values='retx')\n",
    "    \n",
    "log_size          = calc_log_size(crsp_comp)\n",
    "log_bm            = calc_log_bm(crsp_comp)\n",
    "return_2_12       = calc_return_12_2(crsp_comp)"
   ]
  },
  {
   "cell_type": "code",
   "execution_count": null,
   "metadata": {},
   "outputs": [],
   "source": [
    "accruals          = calc_accruals(crsp_comp)  # or calc_accruals(crsp_comp) if you have them merged"
   ]
  },
  {
   "cell_type": "code",
   "execution_count": 156,
   "metadata": {},
   "outputs": [],
   "source": [
    "roa               = calc_roa(crsp_comp)"
   ]
  },
  {
   "cell_type": "code",
   "execution_count": 157,
   "metadata": {},
   "outputs": [],
   "source": [
    "log_assets_growth = calc_log_assets_growth(crsp_comp)"
   ]
  },
  {
   "cell_type": "code",
   "execution_count": 175,
   "metadata": {},
   "outputs": [],
   "source": [
    "dy                = calc_dy(crsp_comp)"
   ]
  },
  {
   "cell_type": "code",
   "execution_count": 187,
   "metadata": {},
   "outputs": [],
   "source": [
    "log_return_13_36  = calc_log_return_13_36(crsp_comp)"
   ]
  },
  {
   "cell_type": "code",
   "execution_count": 177,
   "metadata": {},
   "outputs": [],
   "source": [
    "log_issues_12     = calc_log_issues_12(crsp_comp)"
   ]
  },
  {
   "cell_type": "code",
   "execution_count": 188,
   "metadata": {},
   "outputs": [],
   "source": [
    "log_issues_36     = calc_log_issues_36(crsp_comp)"
   ]
  },
  {
   "cell_type": "code",
   "execution_count": null,
   "metadata": {},
   "outputs": [],
   "source": [
    "betas             = calculate_rolling_beta(crsp_d, crsp_index_d)"
   ]
  },
  {
   "cell_type": "code",
   "execution_count": 190,
   "metadata": {},
   "outputs": [],
   "source": [
    "std_12            = calc_std_12(crsp_d)"
   ]
  },
  {
   "cell_type": "code",
   "execution_count": 197,
   "metadata": {},
   "outputs": [],
   "source": [
    "debt_price        = calc_debt_price(crsp_comp)"
   ]
  },
  {
   "cell_type": "code",
   "execution_count": 198,
   "metadata": {},
   "outputs": [],
   "source": [
    "sales_price       = calc_sales_price(crsp_comp)"
   ]
  },
  {
   "cell_type": "code",
   "execution_count": null,
   "metadata": {},
   "outputs": [],
   "source": []
  }
 ],
 "metadata": {
  "kernelspec": {
   "display_name": "full_stack",
   "language": "python",
   "name": "python3"
  },
  "language_info": {
   "codemirror_mode": {
    "name": "ipython",
    "version": 3
   },
   "file_extension": ".py",
   "mimetype": "text/x-python",
   "name": "python",
   "nbconvert_exporter": "python",
   "pygments_lexer": "ipython3",
   "version": "3.12.8"
  }
 },
 "nbformat": 4,
 "nbformat_minor": 2
}
